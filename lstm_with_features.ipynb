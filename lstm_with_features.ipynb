{
  "nbformat": 4,
  "nbformat_minor": 0,
  "metadata": {
    "colab": {
      "name": "lstm_with_features.ipynb",
      "provenance": [],
      "collapsed_sections": []
    },
    "kernelspec": {
      "name": "python3",
      "display_name": "Python 3"
    },
    "language_info": {
      "name": "python"
    }
  },
  "cells": [
    {
      "cell_type": "code",
      "execution_count": null,
      "metadata": {
        "id": "zfnNUOxCgkO2"
      },
      "outputs": [],
      "source": [
        "import matplotlib.pylab as plt\n",
        "import pandas as pd\n",
        "from sklearn.preprocessing import MinMaxScaler\n",
        "import seaborn as sns\n",
        "import tensorflow as tf\n",
        "keras=tf.keras    \n",
        "from keras.models import Sequential\n",
        "from keras.layers import Dense\n",
        "from keras.layers import LSTM\n",
        "from keras.layers import Dropout\n",
        "import numpy as np"
      ]
    },
    {
      "cell_type": "code",
      "source": [
        "def series_to_supervised(data, n_in=1, n_out=1, dropnan=True):\n",
        "\tn_vars = 1 if type(data) is list else data.shape[1]\n",
        "\tdf = pd.DataFrame(data)\n",
        "\tcols, names = list(), list()\n",
        "\t# input sequence (t-n, ... t-1)\n",
        "\tfor i in range(n_in, 0, -1):\n",
        "\t\tcols.append(df.shift(i))\n",
        "\t\tnames += [('var%d(t-%d)' % (j+1, i)) for j in range(n_vars)]\n",
        "\t# forecast sequence (t, t+1, ... t+n)\n",
        "\tfor i in range(0, n_out):\n",
        "\t\tcols.append(df.shift(-i))\n",
        "\t\tif i == 0:\n",
        "\t\t\tnames += [('var%d(t)' % (j+1)) for j in range(n_vars)]\n",
        "\t\telse:\n",
        "\t\t\tnames += [('var%d(t+%d)' % (j+1, i)) for j in range(n_vars)]\n",
        "\t# put it all together\n",
        "\tagg = pd.concat(cols, axis=1)\n",
        "\tagg.columns = names\n",
        "\t# drop rows with NaN values\n",
        "\tif dropnan:\n",
        "\t\tagg.dropna(inplace=True)\n",
        "\treturn agg"
      ],
      "metadata": {
        "id": "_x2tVcp9nwzq"
      },
      "execution_count": null,
      "outputs": []
    },
    {
      "cell_type": "markdown",
      "source": [
        "# WOODLAND"
      ],
      "metadata": {
        "id": "WsqkEVQqgsFS"
      }
    },
    {
      "cell_type": "code",
      "source": [
        "#path = \"data/woodlands_query_data_all.csv\"\n",
        "#path = \"woodlands_query_data_with_features.csv\"\n",
        "path = \"woodlands_query_data_with_2_features.csv\"\n",
        "dataset = pd.read_csv(path)\n",
        "dataset = dataset[['date','sales','weather_good','holiday_or_not']]\n",
        "# all_data = pd.read_csv(path)\n",
        "# dataset = all_data.iloc[:-20,0:]\n",
        "# test=all_data.iloc[-20:,0:]\n",
        "dataset['date'] = pd.to_datetime(dataset['date'])\n",
        "# print(\"train\",\"test\",\"all\")\n",
        "print(len(dataset))#,len(test),len(all_data))\n",
        "dataset.head()"
      ],
      "metadata": {
        "colab": {
          "base_uri": "https://localhost:8080/",
          "height": 224
        },
        "id": "qUhzeGELgqAW",
        "outputId": "d4c4ad4e-ab17-4c8d-e420-d138fca62ab0"
      },
      "execution_count": null,
      "outputs": [
        {
          "output_type": "stream",
          "name": "stdout",
          "text": [
            "429\n"
          ]
        },
        {
          "output_type": "execute_result",
          "data": {
            "text/plain": [
              "        date  sales  weather_good  holiday_or_not\n",
              "0 2020-07-01     34             3               1\n",
              "1 2020-07-02     36             1               1\n",
              "2 2020-07-03     20             2               0\n",
              "3 2020-07-04     17             0               0\n",
              "4 2020-07-05     26             0               0"
            ],
            "text/html": [
              "\n",
              "  <div id=\"df-38f111ad-14f5-4809-8ca9-af01ac84723f\">\n",
              "    <div class=\"colab-df-container\">\n",
              "      <div>\n",
              "<style scoped>\n",
              "    .dataframe tbody tr th:only-of-type {\n",
              "        vertical-align: middle;\n",
              "    }\n",
              "\n",
              "    .dataframe tbody tr th {\n",
              "        vertical-align: top;\n",
              "    }\n",
              "\n",
              "    .dataframe thead th {\n",
              "        text-align: right;\n",
              "    }\n",
              "</style>\n",
              "<table border=\"1\" class=\"dataframe\">\n",
              "  <thead>\n",
              "    <tr style=\"text-align: right;\">\n",
              "      <th></th>\n",
              "      <th>date</th>\n",
              "      <th>sales</th>\n",
              "      <th>weather_good</th>\n",
              "      <th>holiday_or_not</th>\n",
              "    </tr>\n",
              "  </thead>\n",
              "  <tbody>\n",
              "    <tr>\n",
              "      <th>0</th>\n",
              "      <td>2020-07-01</td>\n",
              "      <td>34</td>\n",
              "      <td>3</td>\n",
              "      <td>1</td>\n",
              "    </tr>\n",
              "    <tr>\n",
              "      <th>1</th>\n",
              "      <td>2020-07-02</td>\n",
              "      <td>36</td>\n",
              "      <td>1</td>\n",
              "      <td>1</td>\n",
              "    </tr>\n",
              "    <tr>\n",
              "      <th>2</th>\n",
              "      <td>2020-07-03</td>\n",
              "      <td>20</td>\n",
              "      <td>2</td>\n",
              "      <td>0</td>\n",
              "    </tr>\n",
              "    <tr>\n",
              "      <th>3</th>\n",
              "      <td>2020-07-04</td>\n",
              "      <td>17</td>\n",
              "      <td>0</td>\n",
              "      <td>0</td>\n",
              "    </tr>\n",
              "    <tr>\n",
              "      <th>4</th>\n",
              "      <td>2020-07-05</td>\n",
              "      <td>26</td>\n",
              "      <td>0</td>\n",
              "      <td>0</td>\n",
              "    </tr>\n",
              "  </tbody>\n",
              "</table>\n",
              "</div>\n",
              "      <button class=\"colab-df-convert\" onclick=\"convertToInteractive('df-38f111ad-14f5-4809-8ca9-af01ac84723f')\"\n",
              "              title=\"Convert this dataframe to an interactive table.\"\n",
              "              style=\"display:none;\">\n",
              "        \n",
              "  <svg xmlns=\"http://www.w3.org/2000/svg\" height=\"24px\"viewBox=\"0 0 24 24\"\n",
              "       width=\"24px\">\n",
              "    <path d=\"M0 0h24v24H0V0z\" fill=\"none\"/>\n",
              "    <path d=\"M18.56 5.44l.94 2.06.94-2.06 2.06-.94-2.06-.94-.94-2.06-.94 2.06-2.06.94zm-11 1L8.5 8.5l.94-2.06 2.06-.94-2.06-.94L8.5 2.5l-.94 2.06-2.06.94zm10 10l.94 2.06.94-2.06 2.06-.94-2.06-.94-.94-2.06-.94 2.06-2.06.94z\"/><path d=\"M17.41 7.96l-1.37-1.37c-.4-.4-.92-.59-1.43-.59-.52 0-1.04.2-1.43.59L10.3 9.45l-7.72 7.72c-.78.78-.78 2.05 0 2.83L4 21.41c.39.39.9.59 1.41.59.51 0 1.02-.2 1.41-.59l7.78-7.78 2.81-2.81c.8-.78.8-2.07 0-2.86zM5.41 20L4 18.59l7.72-7.72 1.47 1.35L5.41 20z\"/>\n",
              "  </svg>\n",
              "      </button>\n",
              "      \n",
              "  <style>\n",
              "    .colab-df-container {\n",
              "      display:flex;\n",
              "      flex-wrap:wrap;\n",
              "      gap: 12px;\n",
              "    }\n",
              "\n",
              "    .colab-df-convert {\n",
              "      background-color: #E8F0FE;\n",
              "      border: none;\n",
              "      border-radius: 50%;\n",
              "      cursor: pointer;\n",
              "      display: none;\n",
              "      fill: #1967D2;\n",
              "      height: 32px;\n",
              "      padding: 0 0 0 0;\n",
              "      width: 32px;\n",
              "    }\n",
              "\n",
              "    .colab-df-convert:hover {\n",
              "      background-color: #E2EBFA;\n",
              "      box-shadow: 0px 1px 2px rgba(60, 64, 67, 0.3), 0px 1px 3px 1px rgba(60, 64, 67, 0.15);\n",
              "      fill: #174EA6;\n",
              "    }\n",
              "\n",
              "    [theme=dark] .colab-df-convert {\n",
              "      background-color: #3B4455;\n",
              "      fill: #D2E3FC;\n",
              "    }\n",
              "\n",
              "    [theme=dark] .colab-df-convert:hover {\n",
              "      background-color: #434B5C;\n",
              "      box-shadow: 0px 1px 3px 1px rgba(0, 0, 0, 0.15);\n",
              "      filter: drop-shadow(0px 1px 2px rgba(0, 0, 0, 0.3));\n",
              "      fill: #FFFFFF;\n",
              "    }\n",
              "  </style>\n",
              "\n",
              "      <script>\n",
              "        const buttonEl =\n",
              "          document.querySelector('#df-38f111ad-14f5-4809-8ca9-af01ac84723f button.colab-df-convert');\n",
              "        buttonEl.style.display =\n",
              "          google.colab.kernel.accessAllowed ? 'block' : 'none';\n",
              "\n",
              "        async function convertToInteractive(key) {\n",
              "          const element = document.querySelector('#df-38f111ad-14f5-4809-8ca9-af01ac84723f');\n",
              "          const dataTable =\n",
              "            await google.colab.kernel.invokeFunction('convertToInteractive',\n",
              "                                                     [key], {});\n",
              "          if (!dataTable) return;\n",
              "\n",
              "          const docLinkHtml = 'Like what you see? Visit the ' +\n",
              "            '<a target=\"_blank\" href=https://colab.research.google.com/notebooks/data_table.ipynb>data table notebook</a>'\n",
              "            + ' to learn more about interactive tables.';\n",
              "          element.innerHTML = '';\n",
              "          dataTable['output_type'] = 'display_data';\n",
              "          await google.colab.output.renderOutput(dataTable, element);\n",
              "          const docLink = document.createElement('div');\n",
              "          docLink.innerHTML = docLinkHtml;\n",
              "          element.appendChild(docLink);\n",
              "        }\n",
              "      </script>\n",
              "    </div>\n",
              "  </div>\n",
              "  "
            ]
          },
          "metadata": {},
          "execution_count": 3
        }
      ]
    },
    {
      "cell_type": "code",
      "source": [
        "dataset['date'] = pd.to_datetime(dataset['date'],infer_datetime_format=True) #convert from string to datetime\n",
        "print(len(dataset))\n",
        "indexedDataset = dataset.set_index(['date'])\n",
        "print(len(indexedDataset))\n",
        "indexedDataset = indexedDataset.resample('1D').mean().interpolate()\n",
        "print(len(indexedDataset))\n",
        "indexedDataset.head(5)"
      ],
      "metadata": {
        "colab": {
          "base_uri": "https://localhost:8080/",
          "height": 291
        },
        "id": "8MEcbf2Fg_Z7",
        "outputId": "18cc24b8-9715-4c96-f051-f1f17ca10592"
      },
      "execution_count": null,
      "outputs": [
        {
          "output_type": "stream",
          "name": "stdout",
          "text": [
            "429\n",
            "429\n",
            "615\n"
          ]
        },
        {
          "output_type": "execute_result",
          "data": {
            "text/plain": [
              "            sales  weather_good  holiday_or_not\n",
              "date                                           \n",
              "2020-07-01   34.0           3.0             1.0\n",
              "2020-07-02   36.0           1.0             1.0\n",
              "2020-07-03   20.0           2.0             0.0\n",
              "2020-07-04   17.0           0.0             0.0\n",
              "2020-07-05   26.0           0.0             0.0"
            ],
            "text/html": [
              "\n",
              "  <div id=\"df-7d1fce58-2a43-48c1-b9f1-17fa7879eee4\">\n",
              "    <div class=\"colab-df-container\">\n",
              "      <div>\n",
              "<style scoped>\n",
              "    .dataframe tbody tr th:only-of-type {\n",
              "        vertical-align: middle;\n",
              "    }\n",
              "\n",
              "    .dataframe tbody tr th {\n",
              "        vertical-align: top;\n",
              "    }\n",
              "\n",
              "    .dataframe thead th {\n",
              "        text-align: right;\n",
              "    }\n",
              "</style>\n",
              "<table border=\"1\" class=\"dataframe\">\n",
              "  <thead>\n",
              "    <tr style=\"text-align: right;\">\n",
              "      <th></th>\n",
              "      <th>sales</th>\n",
              "      <th>weather_good</th>\n",
              "      <th>holiday_or_not</th>\n",
              "    </tr>\n",
              "    <tr>\n",
              "      <th>date</th>\n",
              "      <th></th>\n",
              "      <th></th>\n",
              "      <th></th>\n",
              "    </tr>\n",
              "  </thead>\n",
              "  <tbody>\n",
              "    <tr>\n",
              "      <th>2020-07-01</th>\n",
              "      <td>34.0</td>\n",
              "      <td>3.0</td>\n",
              "      <td>1.0</td>\n",
              "    </tr>\n",
              "    <tr>\n",
              "      <th>2020-07-02</th>\n",
              "      <td>36.0</td>\n",
              "      <td>1.0</td>\n",
              "      <td>1.0</td>\n",
              "    </tr>\n",
              "    <tr>\n",
              "      <th>2020-07-03</th>\n",
              "      <td>20.0</td>\n",
              "      <td>2.0</td>\n",
              "      <td>0.0</td>\n",
              "    </tr>\n",
              "    <tr>\n",
              "      <th>2020-07-04</th>\n",
              "      <td>17.0</td>\n",
              "      <td>0.0</td>\n",
              "      <td>0.0</td>\n",
              "    </tr>\n",
              "    <tr>\n",
              "      <th>2020-07-05</th>\n",
              "      <td>26.0</td>\n",
              "      <td>0.0</td>\n",
              "      <td>0.0</td>\n",
              "    </tr>\n",
              "  </tbody>\n",
              "</table>\n",
              "</div>\n",
              "      <button class=\"colab-df-convert\" onclick=\"convertToInteractive('df-7d1fce58-2a43-48c1-b9f1-17fa7879eee4')\"\n",
              "              title=\"Convert this dataframe to an interactive table.\"\n",
              "              style=\"display:none;\">\n",
              "        \n",
              "  <svg xmlns=\"http://www.w3.org/2000/svg\" height=\"24px\"viewBox=\"0 0 24 24\"\n",
              "       width=\"24px\">\n",
              "    <path d=\"M0 0h24v24H0V0z\" fill=\"none\"/>\n",
              "    <path d=\"M18.56 5.44l.94 2.06.94-2.06 2.06-.94-2.06-.94-.94-2.06-.94 2.06-2.06.94zm-11 1L8.5 8.5l.94-2.06 2.06-.94-2.06-.94L8.5 2.5l-.94 2.06-2.06.94zm10 10l.94 2.06.94-2.06 2.06-.94-2.06-.94-.94-2.06-.94 2.06-2.06.94z\"/><path d=\"M17.41 7.96l-1.37-1.37c-.4-.4-.92-.59-1.43-.59-.52 0-1.04.2-1.43.59L10.3 9.45l-7.72 7.72c-.78.78-.78 2.05 0 2.83L4 21.41c.39.39.9.59 1.41.59.51 0 1.02-.2 1.41-.59l7.78-7.78 2.81-2.81c.8-.78.8-2.07 0-2.86zM5.41 20L4 18.59l7.72-7.72 1.47 1.35L5.41 20z\"/>\n",
              "  </svg>\n",
              "      </button>\n",
              "      \n",
              "  <style>\n",
              "    .colab-df-container {\n",
              "      display:flex;\n",
              "      flex-wrap:wrap;\n",
              "      gap: 12px;\n",
              "    }\n",
              "\n",
              "    .colab-df-convert {\n",
              "      background-color: #E8F0FE;\n",
              "      border: none;\n",
              "      border-radius: 50%;\n",
              "      cursor: pointer;\n",
              "      display: none;\n",
              "      fill: #1967D2;\n",
              "      height: 32px;\n",
              "      padding: 0 0 0 0;\n",
              "      width: 32px;\n",
              "    }\n",
              "\n",
              "    .colab-df-convert:hover {\n",
              "      background-color: #E2EBFA;\n",
              "      box-shadow: 0px 1px 2px rgba(60, 64, 67, 0.3), 0px 1px 3px 1px rgba(60, 64, 67, 0.15);\n",
              "      fill: #174EA6;\n",
              "    }\n",
              "\n",
              "    [theme=dark] .colab-df-convert {\n",
              "      background-color: #3B4455;\n",
              "      fill: #D2E3FC;\n",
              "    }\n",
              "\n",
              "    [theme=dark] .colab-df-convert:hover {\n",
              "      background-color: #434B5C;\n",
              "      box-shadow: 0px 1px 3px 1px rgba(0, 0, 0, 0.15);\n",
              "      filter: drop-shadow(0px 1px 2px rgba(0, 0, 0, 0.3));\n",
              "      fill: #FFFFFF;\n",
              "    }\n",
              "  </style>\n",
              "\n",
              "      <script>\n",
              "        const buttonEl =\n",
              "          document.querySelector('#df-7d1fce58-2a43-48c1-b9f1-17fa7879eee4 button.colab-df-convert');\n",
              "        buttonEl.style.display =\n",
              "          google.colab.kernel.accessAllowed ? 'block' : 'none';\n",
              "\n",
              "        async function convertToInteractive(key) {\n",
              "          const element = document.querySelector('#df-7d1fce58-2a43-48c1-b9f1-17fa7879eee4');\n",
              "          const dataTable =\n",
              "            await google.colab.kernel.invokeFunction('convertToInteractive',\n",
              "                                                     [key], {});\n",
              "          if (!dataTable) return;\n",
              "\n",
              "          const docLinkHtml = 'Like what you see? Visit the ' +\n",
              "            '<a target=\"_blank\" href=https://colab.research.google.com/notebooks/data_table.ipynb>data table notebook</a>'\n",
              "            + ' to learn more about interactive tables.';\n",
              "          element.innerHTML = '';\n",
              "          dataTable['output_type'] = 'display_data';\n",
              "          await google.colab.output.renderOutput(dataTable, element);\n",
              "          const docLink = document.createElement('div');\n",
              "          docLink.innerHTML = docLinkHtml;\n",
              "          element.appendChild(docLink);\n",
              "        }\n",
              "      </script>\n",
              "    </div>\n",
              "  </div>\n",
              "  "
            ]
          },
          "metadata": {},
          "execution_count": 5
        }
      ]
    },
    {
      "cell_type": "code",
      "source": [
        "# test['date'] = pd.to_datetime(test['date'],infer_datetime_format=True) #convert from string to datetime\n",
        "# testindexedDataset = test.set_index(['date'])\n",
        "# testindexedDataset = testindexedDataset.resample('1D').mean().interpolate()\n",
        "# testindexedDataset.head(5)"
      ],
      "metadata": {
        "id": "sufzLsHphNv1"
      },
      "execution_count": null,
      "outputs": []
    },
    {
      "cell_type": "code",
      "source": [
        "## plot graph\n",
        "plt.xlabel('date')\n",
        "plt.ylabel('sales')\n",
        "plt.plot(indexedDataset)"
      ],
      "metadata": {
        "colab": {
          "base_uri": "https://localhost:8080/",
          "height": 333
        },
        "id": "pj2Hf4QDhQT8",
        "outputId": "12d9271c-9a18-4213-80f7-03ecff6ffeae"
      },
      "execution_count": null,
      "outputs": [
        {
          "output_type": "execute_result",
          "data": {
            "text/plain": [
              "[<matplotlib.lines.Line2D at 0x7f6287f74910>,\n",
              " <matplotlib.lines.Line2D at 0x7f6287f74b90>,\n",
              " <matplotlib.lines.Line2D at 0x7f6287f74e90>]"
            ]
          },
          "metadata": {},
          "execution_count": 7
        },
        {
          "output_type": "display_data",
          "data": {
            "text/plain": [
              "<Figure size 432x288 with 1 Axes>"
            ],
            "image/png": "[encoded data removed]"
          },
          "metadata": {
            "needs_background": "light"
          }
        }
      ]
    },
    {
      "cell_type": "code",
      "source": [
        "print(len(indexedDataset))"
      ],
      "metadata": {
        "colab": {
          "base_uri": "https://localhost:8080/"
        },
        "id": "HCgB3T3TxQ5S",
        "outputId": "abcabf13-9926-4dc7-a315-769e89d2ae94"
      },
      "execution_count": null,
      "outputs": [
        {
          "output_type": "stream",
          "name": "stdout",
          "text": [
            "615\n"
          ]
        }
      ]
    },
    {
      "cell_type": "code",
      "source": [
        "indexedDataset"
      ],
      "metadata": {
        "colab": {
          "base_uri": "https://localhost:8080/",
          "height": 455
        },
        "id": "78ygPft-3wFQ",
        "outputId": "d4755221-fe65-475c-922a-7d10cbdba6c0"
      },
      "execution_count": null,
      "outputs": [
        {
          "output_type": "execute_result",
          "data": {
            "text/plain": [
              "             sales  weather_good  holiday_or_not\n",
              "date                                            \n",
              "2020-07-01    34.0           3.0             1.0\n",
              "2020-07-02    36.0           1.0             1.0\n",
              "2020-07-03    20.0           2.0             0.0\n",
              "2020-07-04    17.0           0.0             0.0\n",
              "2020-07-05    26.0           0.0             0.0\n",
              "...            ...           ...             ...\n",
              "2022-03-03  6868.0           0.0             1.0\n",
              "2022-03-04  5374.0           0.0             1.0\n",
              "2022-03-05  4410.0           4.0             0.0\n",
              "2022-03-06  5758.0           4.0             0.0\n",
              "2022-03-07  3716.0           3.0             1.0\n",
              "\n",
              "[615 rows x 3 columns]"
            ],
            "text/html": [
              "\n",
              "  <div id=\"df-c8a111d5-32a2-464e-af30-7f018c9d1c9f\">\n",
              "    <div class=\"colab-df-container\">\n",
              "      <div>\n",
              "<style scoped>\n",
              "    .dataframe tbody tr th:only-of-type {\n",
              "        vertical-align: middle;\n",
              "    }\n",
              "\n",
              "    .dataframe tbody tr th {\n",
              "        vertical-align: top;\n",
              "    }\n",
              "\n",
              "    .dataframe thead th {\n",
              "        text-align: right;\n",
              "    }\n",
              "</style>\n",
              "<table border=\"1\" class=\"dataframe\">\n",
              "  <thead>\n",
              "    <tr style=\"text-align: right;\">\n",
              "      <th></th>\n",
              "      <th>sales</th>\n",
              "      <th>weather_good</th>\n",
              "      <th>holiday_or_not</th>\n",
              "    </tr>\n",
              "    <tr>\n",
              "      <th>date</th>\n",
              "      <th></th>\n",
              "      <th></th>\n",
              "      <th></th>\n",
              "    </tr>\n",
              "  </thead>\n",
              "  <tbody>\n",
              "    <tr>\n",
              "      <th>2020-07-01</th>\n",
              "      <td>34.0</td>\n",
              "      <td>3.0</td>\n",
              "      <td>1.0</td>\n",
              "    </tr>\n",
              "    <tr>\n",
              "      <th>2020-07-02</th>\n",
              "      <td>36.0</td>\n",
              "      <td>1.0</td>\n",
              "      <td>1.0</td>\n",
              "    </tr>\n",
              "    <tr>\n",
              "      <th>2020-07-03</th>\n",
              "      <td>20.0</td>\n",
              "      <td>2.0</td>\n",
              "      <td>0.0</td>\n",
              "    </tr>\n",
              "    <tr>\n",
              "      <th>2020-07-04</th>\n",
              "      <td>17.0</td>\n",
              "      <td>0.0</td>\n",
              "      <td>0.0</td>\n",
              "    </tr>\n",
              "    <tr>\n",
              "      <th>2020-07-05</th>\n",
              "      <td>26.0</td>\n",
              "      <td>0.0</td>\n",
              "      <td>0.0</td>\n",
              "    </tr>\n",
              "    <tr>\n",
              "      <th>...</th>\n",
              "      <td>...</td>\n",
              "      <td>...</td>\n",
              "      <td>...</td>\n",
              "    </tr>\n",
              "    <tr>\n",
              "      <th>2022-03-03</th>\n",
              "      <td>6868.0</td>\n",
              "      <td>0.0</td>\n",
              "      <td>1.0</td>\n",
              "    </tr>\n",
              "    <tr>\n",
              "      <th>2022-03-04</th>\n",
              "      <td>5374.0</td>\n",
              "      <td>0.0</td>\n",
              "      <td>1.0</td>\n",
              "    </tr>\n",
              "    <tr>\n",
              "      <th>2022-03-05</th>\n",
              "      <td>4410.0</td>\n",
              "      <td>4.0</td>\n",
              "      <td>0.0</td>\n",
              "    </tr>\n",
              "    <tr>\n",
              "      <th>2022-03-06</th>\n",
              "      <td>5758.0</td>\n",
              "      <td>4.0</td>\n",
              "      <td>0.0</td>\n",
              "    </tr>\n",
              "    <tr>\n",
              "      <th>2022-03-07</th>\n",
              "      <td>3716.0</td>\n",
              "      <td>3.0</td>\n",
              "      <td>1.0</td>\n",
              "    </tr>\n",
              "  </tbody>\n",
              "</table>\n",
              "<p>615 rows × 3 columns</p>\n",
              "</div>\n",
              "      <button class=\"colab-df-convert\" onclick=\"convertToInteractive('df-c8a111d5-32a2-464e-af30-7f018c9d1c9f')\"\n",
              "              title=\"Convert this dataframe to an interactive table.\"\n",
              "              style=\"display:none;\">\n",
              "        \n",
              "  <svg xmlns=\"http://www.w3.org/2000/svg\" height=\"24px\"viewBox=\"0 0 24 24\"\n",
              "       width=\"24px\">\n",
              "    <path d=\"M0 0h24v24H0V0z\" fill=\"none\"/>\n",
              "    <path d=\"M18.56 5.44l.94 2.06.94-2.06 2.06-.94-2.06-.94-.94-2.06-.94 2.06-2.06.94zm-11 1L8.5 8.5l.94-2.06 2.06-.94-2.06-.94L8.5 2.5l-.94 2.06-2.06.94zm10 10l.94 2.06.94-2.06 2.06-.94-2.06-.94-.94-2.06-.94 2.06-2.06.94z\"/><path d=\"M17.41 7.96l-1.37-1.37c-.4-.4-.92-.59-1.43-.59-.52 0-1.04.2-1.43.59L10.3 9.45l-7.72 7.72c-.78.78-.78 2.05 0 2.83L4 21.41c.39.39.9.59 1.41.59.51 0 1.02-.2 1.41-.59l7.78-7.78 2.81-2.81c.8-.78.8-2.07 0-2.86zM5.41 20L4 18.59l7.72-7.72 1.47 1.35L5.41 20z\"/>\n",
              "  </svg>\n",
              "      </button>\n",
              "      \n",
              "  <style>\n",
              "    .colab-df-container {\n",
              "      display:flex;\n",
              "      flex-wrap:wrap;\n",
              "      gap: 12px;\n",
              "    }\n",
              "\n",
              "    .colab-df-convert {\n",
              "      background-color: #E8F0FE;\n",
              "      border: none;\n",
              "      border-radius: 50%;\n",
              "      cursor: pointer;\n",
              "      display: none;\n",
              "      fill: #1967D2;\n",
              "      height: 32px;\n",
              "      padding: 0 0 0 0;\n",
              "      width: 32px;\n",
              "    }\n",
              "\n",
              "    .colab-df-convert:hover {\n",
              "      background-color: #E2EBFA;\n",
              "      box-shadow: 0px 1px 2px rgba(60, 64, 67, 0.3), 0px 1px 3px 1px rgba(60, 64, 67, 0.15);\n",
              "      fill: #174EA6;\n",
              "    }\n",
              "\n",
              "    [theme=dark] .colab-df-convert {\n",
              "      background-color: #3B4455;\n",
              "      fill: #D2E3FC;\n",
              "    }\n",
              "\n",
              "    [theme=dark] .colab-df-convert:hover {\n",
              "      background-color: #434B5C;\n",
              "      box-shadow: 0px 1px 3px 1px rgba(0, 0, 0, 0.15);\n",
              "      filter: drop-shadow(0px 1px 2px rgba(0, 0, 0, 0.3));\n",
              "      fill: #FFFFFF;\n",
              "    }\n",
              "  </style>\n",
              "\n",
              "      <script>\n",
              "        const buttonEl =\n",
              "          document.querySelector('#df-c8a111d5-32a2-464e-af30-7f018c9d1c9f button.colab-df-convert');\n",
              "        buttonEl.style.display =\n",
              "          google.colab.kernel.accessAllowed ? 'block' : 'none';\n",
              "\n",
              "        async function convertToInteractive(key) {\n",
              "          const element = document.querySelector('#df-c8a111d5-32a2-464e-af30-7f018c9d1c9f');\n",
              "          const dataTable =\n",
              "            await google.colab.kernel.invokeFunction('convertToInteractive',\n",
              "                                                     [key], {});\n",
              "          if (!dataTable) return;\n",
              "\n",
              "          const docLinkHtml = 'Like what you see? Visit the ' +\n",
              "            '<a target=\"_blank\" href=https://colab.research.google.com/notebooks/data_table.ipynb>data table notebook</a>'\n",
              "            + ' to learn more about interactive tables.';\n",
              "          element.innerHTML = '';\n",
              "          dataTable['output_type'] = 'display_data';\n",
              "          await google.colab.output.renderOutput(dataTable, element);\n",
              "          const docLink = document.createElement('div');\n",
              "          docLink.innerHTML = docLinkHtml;\n",
              "          element.appendChild(docLink);\n",
              "        }\n",
              "      </script>\n",
              "    </div>\n",
              "  </div>\n",
              "  "
            ]
          },
          "metadata": {},
          "execution_count": 9
        }
      ]
    },
    {
      "cell_type": "code",
      "source": [
        "scaler = MinMaxScaler()\n",
        "scaler.fit(indexedDataset)\n",
        "scaled_data = scaler.transform(indexedDataset)\n",
        "# scaled_train_data = scaler.transform(indexedDataset)\n",
        "# scaled_test_data = scaler.transform(testindexedDataset)"
      ],
      "metadata": {
        "id": "RfVwc3wChSE-"
      },
      "execution_count": null,
      "outputs": []
    },
    {
      "cell_type": "code",
      "source": [
        "print(len(scaled_data))"
      ],
      "metadata": {
        "colab": {
          "base_uri": "https://localhost:8080/"
        },
        "id": "438pAtuKtXu6",
        "outputId": "8b9b2aab-0f75-4f60-da3d-33f9d5ceb46f"
      },
      "execution_count": null,
      "outputs": [
        {
          "output_type": "stream",
          "name": "stdout",
          "text": [
            "615\n"
          ]
        }
      ]
    },
    {
      "cell_type": "code",
      "source": [
        "scaled_data"
      ],
      "metadata": {
        "colab": {
          "base_uri": "https://localhost:8080/"
        },
        "id": "nGXMpzh53qF7",
        "outputId": "f59734d9-adeb-4cfa-afbd-5098a05e7e40"
      },
      "execution_count": null,
      "outputs": [
        {
          "output_type": "execute_result",
          "data": {
            "text/plain": [
              "array([[1.43472023e-03, 3.00000000e-01, 1.00000000e+00],\n",
              "       [1.60351084e-03, 1.00000000e-01, 1.00000000e+00],\n",
              "       [2.53185923e-04, 2.00000000e-01, 0.00000000e+00],\n",
              "       ...,\n",
              "       [3.70748586e-01, 4.00000000e-01, 0.00000000e+00],\n",
              "       [4.84513461e-01, 4.00000000e-01, 0.00000000e+00],\n",
              "       [3.12178243e-01, 3.00000000e-01, 1.00000000e+00]])"
            ]
          },
          "metadata": {},
          "execution_count": 12
        }
      ]
    },
    {
      "cell_type": "code",
      "source": [
        "reframed = series_to_supervised(scaled_data, 1, 1)\n",
        "reframed.head()"
      ],
      "metadata": {
        "colab": {
          "base_uri": "https://localhost:8080/",
          "height": 206
        },
        "id": "hAbhbE2SW1ZP",
        "outputId": "9dc72b2d-3937-4983-a74e-081108fb1465"
      },
      "execution_count": null,
      "outputs": [
        {
          "output_type": "execute_result",
          "data": {
            "text/plain": [
              "   var1(t-1)  var2(t-1)  var3(t-1)   var1(t)  var2(t)  var3(t)\n",
              "1   0.001435        0.3        1.0  0.001604      0.1      1.0\n",
              "2   0.001604        0.1        1.0  0.000253      0.2      0.0\n",
              "3   0.000253        0.2        0.0  0.000000      0.0      0.0\n",
              "4   0.000000        0.0        0.0  0.000760      0.0      0.0\n",
              "5   0.000760        0.0        0.0  0.001772      0.6      1.0"
            ],
            "text/html": [
              "\n",
              "  <div id=\"df-8a9d999a-a92a-4944-bd9f-87f84334ede3\">\n",
              "    <div class=\"colab-df-container\">\n",
              "      <div>\n",
              "<style scoped>\n",
              "    .dataframe tbody tr th:only-of-type {\n",
              "        vertical-align: middle;\n",
              "    }\n",
              "\n",
              "    .dataframe tbody tr th {\n",
              "        vertical-align: top;\n",
              "    }\n",
              "\n",
              "    .dataframe thead th {\n",
              "        text-align: right;\n",
              "    }\n",
              "</style>\n",
              "<table border=\"1\" class=\"dataframe\">\n",
              "  <thead>\n",
              "    <tr style=\"text-align: right;\">\n",
              "      <th></th>\n",
              "      <th>var1(t-1)</th>\n",
              "      <th>var2(t-1)</th>\n",
              "      <th>var3(t-1)</th>\n",
              "      <th>var1(t)</th>\n",
              "      <th>var2(t)</th>\n",
              "      <th>var3(t)</th>\n",
              "    </tr>\n",
              "  </thead>\n",
              "  <tbody>\n",
              "    <tr>\n",
              "      <th>1</th>\n",
              "      <td>0.001435</td>\n",
              "      <td>0.3</td>\n",
              "      <td>1.0</td>\n",
              "      <td>0.001604</td>\n",
              "      <td>0.1</td>\n",
              "      <td>1.0</td>\n",
              "    </tr>\n",
              "    <tr>\n",
              "      <th>2</th>\n",
              "      <td>0.001604</td>\n",
              "      <td>0.1</td>\n",
              "      <td>1.0</td>\n",
              "      <td>0.000253</td>\n",
              "      <td>0.2</td>\n",
              "      <td>0.0</td>\n",
              "    </tr>\n",
              "    <tr>\n",
              "      <th>3</th>\n",
              "      <td>0.000253</td>\n",
              "      <td>0.2</td>\n",
              "      <td>0.0</td>\n",
              "      <td>0.000000</td>\n",
              "      <td>0.0</td>\n",
              "      <td>0.0</td>\n",
              "    </tr>\n",
              "    <tr>\n",
              "      <th>4</th>\n",
              "      <td>0.000000</td>\n",
              "      <td>0.0</td>\n",
              "      <td>0.0</td>\n",
              "      <td>0.000760</td>\n",
              "      <td>0.0</td>\n",
              "      <td>0.0</td>\n",
              "    </tr>\n",
              "    <tr>\n",
              "      <th>5</th>\n",
              "      <td>0.000760</td>\n",
              "      <td>0.0</td>\n",
              "      <td>0.0</td>\n",
              "      <td>0.001772</td>\n",
              "      <td>0.6</td>\n",
              "      <td>1.0</td>\n",
              "    </tr>\n",
              "  </tbody>\n",
              "</table>\n",
              "</div>\n",
              "      <button class=\"colab-df-convert\" onclick=\"convertToInteractive('df-8a9d999a-a92a-4944-bd9f-87f84334ede3')\"\n",
              "              title=\"Convert this dataframe to an interactive table.\"\n",
              "              style=\"display:none;\">\n",
              "        \n",
              "  <svg xmlns=\"http://www.w3.org/2000/svg\" height=\"24px\"viewBox=\"0 0 24 24\"\n",
              "       width=\"24px\">\n",
              "    <path d=\"M0 0h24v24H0V0z\" fill=\"none\"/>\n",
              "    <path d=\"M18.56 5.44l.94 2.06.94-2.06 2.06-.94-2.06-.94-.94-2.06-.94 2.06-2.06.94zm-11 1L8.5 8.5l.94-2.06 2.06-.94-2.06-.94L8.5 2.5l-.94 2.06-2.06.94zm10 10l.94 2.06.94-2.06 2.06-.94-2.06-.94-.94-2.06-.94 2.06-2.06.94z\"/><path d=\"M17.41 7.96l-1.37-1.37c-.4-.4-.92-.59-1.43-.59-.52 0-1.04.2-1.43.59L10.3 9.45l-7.72 7.72c-.78.78-.78 2.05 0 2.83L4 21.41c.39.39.9.59 1.41.59.51 0 1.02-.2 1.41-.59l7.78-7.78 2.81-2.81c.8-.78.8-2.07 0-2.86zM5.41 20L4 18.59l7.72-7.72 1.47 1.35L5.41 20z\"/>\n",
              "  </svg>\n",
              "      </button>\n",
              "      \n",
              "  <style>\n",
              "    .colab-df-container {\n",
              "      display:flex;\n",
              "      flex-wrap:wrap;\n",
              "      gap: 12px;\n",
              "    }\n",
              "\n",
              "    .colab-df-convert {\n",
              "      background-color: #E8F0FE;\n",
              "      border: none;\n",
              "      border-radius: 50%;\n",
              "      cursor: pointer;\n",
              "      display: none;\n",
              "      fill: #1967D2;\n",
              "      height: 32px;\n",
              "      padding: 0 0 0 0;\n",
              "      width: 32px;\n",
              "    }\n",
              "\n",
              "    .colab-df-convert:hover {\n",
              "      background-color: #E2EBFA;\n",
              "      box-shadow: 0px 1px 2px rgba(60, 64, 67, 0.3), 0px 1px 3px 1px rgba(60, 64, 67, 0.15);\n",
              "      fill: #174EA6;\n",
              "    }\n",
              "\n",
              "    [theme=dark] .colab-df-convert {\n",
              "      background-color: #3B4455;\n",
              "      fill: #D2E3FC;\n",
              "    }\n",
              "\n",
              "    [theme=dark] .colab-df-convert:hover {\n",
              "      background-color: #434B5C;\n",
              "      box-shadow: 0px 1px 3px 1px rgba(0, 0, 0, 0.15);\n",
              "      filter: drop-shadow(0px 1px 2px rgba(0, 0, 0, 0.3));\n",
              "      fill: #FFFFFF;\n",
              "    }\n",
              "  </style>\n",
              "\n",
              "      <script>\n",
              "        const buttonEl =\n",
              "          document.querySelector('#df-8a9d999a-a92a-4944-bd9f-87f84334ede3 button.colab-df-convert');\n",
              "        buttonEl.style.display =\n",
              "          google.colab.kernel.accessAllowed ? 'block' : 'none';\n",
              "\n",
              "        async function convertToInteractive(key) {\n",
              "          const element = document.querySelector('#df-8a9d999a-a92a-4944-bd9f-87f84334ede3');\n",
              "          const dataTable =\n",
              "            await google.colab.kernel.invokeFunction('convertToInteractive',\n",
              "                                                     [key], {});\n",
              "          if (!dataTable) return;\n",
              "\n",
              "          const docLinkHtml = 'Like what you see? Visit the ' +\n",
              "            '<a target=\"_blank\" href=https://colab.research.google.com/notebooks/data_table.ipynb>data table notebook</a>'\n",
              "            + ' to learn more about interactive tables.';\n",
              "          element.innerHTML = '';\n",
              "          dataTable['output_type'] = 'display_data';\n",
              "          await google.colab.output.renderOutput(dataTable, element);\n",
              "          const docLink = document.createElement('div');\n",
              "          docLink.innerHTML = docLinkHtml;\n",
              "          element.appendChild(docLink);\n",
              "        }\n",
              "      </script>\n",
              "    </div>\n",
              "  </div>\n",
              "  "
            ]
          },
          "metadata": {},
          "execution_count": 13
        }
      ]
    },
    {
      "cell_type": "code",
      "source": [
        "#reframed.drop(reframed.columns[[3]], axis=1, inplace=True)\n",
        "#reframed.drop(reframed.columns[['var2(t)','var3(t)']], axis=1, inplace=True)\n",
        "reframed.drop(['var2(t)', 'var3(t)'], axis=1, inplace=True)\n",
        "reframed.head()\n",
        "\n",
        "# reframed_tr = series_to_supervised(scaled_train_data, 1, 1)\n",
        "# reframed_te = series_to_supervised(scaled_test_data, 1, 1)\n",
        "# reframed_tr.drop(reframed_tr.columns[[3]], axis=1, inplace=True)\n",
        "# reframed_te.drop(reframed_te.columns[[3]], axis=1, inplace=True)"
      ],
      "metadata": {
        "id": "MbUciEDYn7xx",
        "colab": {
          "base_uri": "https://localhost:8080/",
          "height": 206
        },
        "outputId": "ea32152d-2cc6-4b04-9b32-c21aa63eec70"
      },
      "execution_count": null,
      "outputs": [
        {
          "output_type": "execute_result",
          "data": {
            "text/plain": [
              "   var1(t-1)  var2(t-1)  var3(t-1)   var1(t)\n",
              "1   0.001435        0.3        1.0  0.001604\n",
              "2   0.001604        0.1        1.0  0.000253\n",
              "3   0.000253        0.2        0.0  0.000000\n",
              "4   0.000000        0.0        0.0  0.000760\n",
              "5   0.000760        0.0        0.0  0.001772"
            ],
            "text/html": [
              "\n",
              "  <div id=\"df-8db1e29c-c45f-4fea-8657-150b71c0fa30\">\n",
              "    <div class=\"colab-df-container\">\n",
              "      <div>\n",
              "<style scoped>\n",
              "    .dataframe tbody tr th:only-of-type {\n",
              "        vertical-align: middle;\n",
              "    }\n",
              "\n",
              "    .dataframe tbody tr th {\n",
              "        vertical-align: top;\n",
              "    }\n",
              "\n",
              "    .dataframe thead th {\n",
              "        text-align: right;\n",
              "    }\n",
              "</style>\n",
              "<table border=\"1\" class=\"dataframe\">\n",
              "  <thead>\n",
              "    <tr style=\"text-align: right;\">\n",
              "      <th></th>\n",
              "      <th>var1(t-1)</th>\n",
              "      <th>var2(t-1)</th>\n",
              "      <th>var3(t-1)</th>\n",
              "      <th>var1(t)</th>\n",
              "    </tr>\n",
              "  </thead>\n",
              "  <tbody>\n",
              "    <tr>\n",
              "      <th>1</th>\n",
              "      <td>0.001435</td>\n",
              "      <td>0.3</td>\n",
              "      <td>1.0</td>\n",
              "      <td>0.001604</td>\n",
              "    </tr>\n",
              "    <tr>\n",
              "      <th>2</th>\n",
              "      <td>0.001604</td>\n",
              "      <td>0.1</td>\n",
              "      <td>1.0</td>\n",
              "      <td>0.000253</td>\n",
              "    </tr>\n",
              "    <tr>\n",
              "      <th>3</th>\n",
              "      <td>0.000253</td>\n",
              "      <td>0.2</td>\n",
              "      <td>0.0</td>\n",
              "      <td>0.000000</td>\n",
              "    </tr>\n",
              "    <tr>\n",
              "      <th>4</th>\n",
              "      <td>0.000000</td>\n",
              "      <td>0.0</td>\n",
              "      <td>0.0</td>\n",
              "      <td>0.000760</td>\n",
              "    </tr>\n",
              "    <tr>\n",
              "      <th>5</th>\n",
              "      <td>0.000760</td>\n",
              "      <td>0.0</td>\n",
              "      <td>0.0</td>\n",
              "      <td>0.001772</td>\n",
              "    </tr>\n",
              "  </tbody>\n",
              "</table>\n",
              "</div>\n",
              "      <button class=\"colab-df-convert\" onclick=\"convertToInteractive('df-8db1e29c-c45f-4fea-8657-150b71c0fa30')\"\n",
              "              title=\"Convert this dataframe to an interactive table.\"\n",
              "              style=\"display:none;\">\n",
              "        \n",
              "  <svg xmlns=\"http://www.w3.org/2000/svg\" height=\"24px\"viewBox=\"0 0 24 24\"\n",
              "       width=\"24px\">\n",
              "    <path d=\"M0 0h24v24H0V0z\" fill=\"none\"/>\n",
              "    <path d=\"M18.56 5.44l.94 2.06.94-2.06 2.06-.94-2.06-.94-.94-2.06-.94 2.06-2.06.94zm-11 1L8.5 8.5l.94-2.06 2.06-.94-2.06-.94L8.5 2.5l-.94 2.06-2.06.94zm10 10l.94 2.06.94-2.06 2.06-.94-2.06-.94-.94-2.06-.94 2.06-2.06.94z\"/><path d=\"M17.41 7.96l-1.37-1.37c-.4-.4-.92-.59-1.43-.59-.52 0-1.04.2-1.43.59L10.3 9.45l-7.72 7.72c-.78.78-.78 2.05 0 2.83L4 21.41c.39.39.9.59 1.41.59.51 0 1.02-.2 1.41-.59l7.78-7.78 2.81-2.81c.8-.78.8-2.07 0-2.86zM5.41 20L4 18.59l7.72-7.72 1.47 1.35L5.41 20z\"/>\n",
              "  </svg>\n",
              "      </button>\n",
              "      \n",
              "  <style>\n",
              "    .colab-df-container {\n",
              "      display:flex;\n",
              "      flex-wrap:wrap;\n",
              "      gap: 12px;\n",
              "    }\n",
              "\n",
              "    .colab-df-convert {\n",
              "      background-color: #E8F0FE;\n",
              "      border: none;\n",
              "      border-radius: 50%;\n",
              "      cursor: pointer;\n",
              "      display: none;\n",
              "      fill: #1967D2;\n",
              "      height: 32px;\n",
              "      padding: 0 0 0 0;\n",
              "      width: 32px;\n",
              "    }\n",
              "\n",
              "    .colab-df-convert:hover {\n",
              "      background-color: #E2EBFA;\n",
              "      box-shadow: 0px 1px 2px rgba(60, 64, 67, 0.3), 0px 1px 3px 1px rgba(60, 64, 67, 0.15);\n",
              "      fill: #174EA6;\n",
              "    }\n",
              "\n",
              "    [theme=dark] .colab-df-convert {\n",
              "      background-color: #3B4455;\n",
              "      fill: #D2E3FC;\n",
              "    }\n",
              "\n",
              "    [theme=dark] .colab-df-convert:hover {\n",
              "      background-color: #434B5C;\n",
              "      box-shadow: 0px 1px 3px 1px rgba(0, 0, 0, 0.15);\n",
              "      filter: drop-shadow(0px 1px 2px rgba(0, 0, 0, 0.3));\n",
              "      fill: #FFFFFF;\n",
              "    }\n",
              "  </style>\n",
              "\n",
              "      <script>\n",
              "        const buttonEl =\n",
              "          document.querySelector('#df-8db1e29c-c45f-4fea-8657-150b71c0fa30 button.colab-df-convert');\n",
              "        buttonEl.style.display =\n",
              "          google.colab.kernel.accessAllowed ? 'block' : 'none';\n",
              "\n",
              "        async function convertToInteractive(key) {\n",
              "          const element = document.querySelector('#df-8db1e29c-c45f-4fea-8657-150b71c0fa30');\n",
              "          const dataTable =\n",
              "            await google.colab.kernel.invokeFunction('convertToInteractive',\n",
              "                                                     [key], {});\n",
              "          if (!dataTable) return;\n",
              "\n",
              "          const docLinkHtml = 'Like what you see? Visit the ' +\n",
              "            '<a target=\"_blank\" href=https://colab.research.google.com/notebooks/data_table.ipynb>data table notebook</a>'\n",
              "            + ' to learn more about interactive tables.';\n",
              "          element.innerHTML = '';\n",
              "          dataTable['output_type'] = 'display_data';\n",
              "          await google.colab.output.renderOutput(dataTable, element);\n",
              "          const docLink = document.createElement('div');\n",
              "          docLink.innerHTML = docLinkHtml;\n",
              "          element.appendChild(docLink);\n",
              "        }\n",
              "      </script>\n",
              "    </div>\n",
              "  </div>\n",
              "  "
            ]
          },
          "metadata": {},
          "execution_count": 14
        }
      ]
    },
    {
      "cell_type": "code",
      "source": [
        "print(len(reframed))"
      ],
      "metadata": {
        "colab": {
          "base_uri": "https://localhost:8080/"
        },
        "id": "EhSz80HcxK-T",
        "outputId": "ec782598-c205-4e99-c8e4-48268be48ee4"
      },
      "execution_count": null,
      "outputs": [
        {
          "output_type": "stream",
          "name": "stdout",
          "text": [
            "614\n"
          ]
        }
      ]
    },
    {
      "cell_type": "code",
      "source": [
        "# split into train and test sets\n",
        "values = reframed.values\n",
        "train = values[:-60, :]\n",
        "test = values[-60:, :]\n",
        "# split into input and outputs\n",
        "train_X, train_y = train[:, :-1], train[:, -1]\n",
        "test_X, test_y = test[:, :-1], test[:, -1]\n",
        "# reshape input to be 3D [samples, timesteps, features]\n",
        "train_X = train_X.reshape((train_X.shape[0], 1, train_X.shape[1]))\n",
        "test_X = test_X.reshape((test_X.shape[0], 1, test_X.shape[1]))\n",
        "print(train_X.shape, train_y.shape, test_X.shape, test_y.shape)"
      ],
      "metadata": {
        "colab": {
          "base_uri": "https://localhost:8080/"
        },
        "id": "JEsOgZA2tqJ0",
        "outputId": "fc697e9e-2433-4bc4-f579-8e5e52cad961"
      },
      "execution_count": null,
      "outputs": [
        {
          "output_type": "stream",
          "name": "stdout",
          "text": [
            "(554, 1, 3) (554,) (60, 1, 3) (60,)\n"
          ]
        }
      ]
    },
    {
      "cell_type": "markdown",
      "source": [
        "# change batch size (10,20,30,40)\n",
        "# change middle layer neurons (50,100,150)\n",
        "# use mae instead of mse"
      ],
      "metadata": {
        "id": "HbtaVIG6JFSz"
      }
    },
    {
      "cell_type": "code",
      "source": [
        "# design network\n",
        "from matplotlib import pyplot\n",
        "model = Sequential()\n",
        "model.add(LSTM(300, activation='relu', input_shape=(train_X.shape[1], train_X.shape[2])))\n",
        "model.add(Dense(1))\n",
        "model.compile(loss='mae', optimizer='adam')\n",
        "#model.compile(loss='mae', optimizer='opt')\n",
        "# fit network\n",
        "history = model.fit(train_X, train_y, epochs=50, batch_size=50, validation_data=(test_X, test_y), verbose=2, shuffle=False)\n",
        "# plot history\n",
        "pyplot.plot(history.history['loss'], label='train')\n",
        "pyplot.plot(history.history['val_loss'], label='test')\n",
        "pyplot.legend()\n",
        "pyplot.show()"
      ],
      "metadata": {
        "id": "D94o_BLcqmcq",
        "colab": {
          "base_uri": "https://localhost:8080/",
          "height": 1000
        },
        "outputId": "64596da5-4819-4d9a-d965-7fe4c3d75dd7"
      },
      "execution_count": null,
      "outputs": [
        {
          "output_type": "stream",
          "name": "stdout",
          "text": [
            "Epoch 1/50\n",
            "12/12 - 2s - loss: 0.2801 - val_loss: 0.4273 - 2s/epoch - 154ms/step\n",
            "Epoch 2/50\n",
            "12/12 - 0s - loss: 0.2235 - val_loss: 0.3440 - 104ms/epoch - 9ms/step\n",
            "Epoch 3/50\n",
            "12/12 - 0s - loss: 0.1885 - val_loss: 0.2736 - 107ms/epoch - 9ms/step\n",
            "Epoch 4/50\n",
            "12/12 - 0s - loss: 0.1727 - val_loss: 0.2303 - 108ms/epoch - 9ms/step\n",
            "Epoch 5/50\n",
            "12/12 - 0s - loss: 0.1624 - val_loss: 0.2059 - 115ms/epoch - 10ms/step\n",
            "Epoch 6/50\n",
            "12/12 - 0s - loss: 0.1533 - val_loss: 0.1929 - 106ms/epoch - 9ms/step\n",
            "Epoch 7/50\n",
            "12/12 - 0s - loss: 0.1435 - val_loss: 0.1837 - 115ms/epoch - 10ms/step\n",
            "Epoch 8/50\n",
            "12/12 - 0s - loss: 0.1319 - val_loss: 0.1694 - 104ms/epoch - 9ms/step\n",
            "Epoch 9/50\n",
            "12/12 - 0s - loss: 0.1189 - val_loss: 0.1531 - 118ms/epoch - 10ms/step\n",
            "Epoch 10/50\n",
            "12/12 - 0s - loss: 0.1043 - val_loss: 0.1366 - 109ms/epoch - 9ms/step\n",
            "Epoch 11/50\n",
            "12/12 - 0s - loss: 0.0889 - val_loss: 0.1163 - 106ms/epoch - 9ms/step\n",
            "Epoch 12/50\n",
            "12/12 - 0s - loss: 0.0757 - val_loss: 0.1042 - 107ms/epoch - 9ms/step\n",
            "Epoch 13/50\n",
            "12/12 - 0s - loss: 0.0648 - val_loss: 0.0907 - 101ms/epoch - 8ms/step\n",
            "Epoch 14/50\n",
            "12/12 - 0s - loss: 0.0573 - val_loss: 0.0859 - 100ms/epoch - 8ms/step\n",
            "Epoch 15/50\n",
            "12/12 - 0s - loss: 0.0555 - val_loss: 0.0843 - 109ms/epoch - 9ms/step\n",
            "Epoch 16/50\n",
            "12/12 - 0s - loss: 0.0542 - val_loss: 0.0858 - 97ms/epoch - 8ms/step\n",
            "Epoch 17/50\n",
            "12/12 - 0s - loss: 0.0531 - val_loss: 0.0843 - 101ms/epoch - 8ms/step\n",
            "Epoch 18/50\n",
            "12/12 - 0s - loss: 0.0523 - val_loss: 0.0810 - 111ms/epoch - 9ms/step\n",
            "Epoch 19/50\n",
            "12/12 - 0s - loss: 0.0529 - val_loss: 0.0812 - 103ms/epoch - 9ms/step\n",
            "Epoch 20/50\n",
            "12/12 - 0s - loss: 0.0524 - val_loss: 0.0818 - 107ms/epoch - 9ms/step\n",
            "Epoch 21/50\n",
            "12/12 - 0s - loss: 0.0512 - val_loss: 0.0804 - 106ms/epoch - 9ms/step\n",
            "Epoch 22/50\n",
            "12/12 - 0s - loss: 0.0508 - val_loss: 0.0776 - 100ms/epoch - 8ms/step\n",
            "Epoch 23/50\n",
            "12/12 - 0s - loss: 0.0512 - val_loss: 0.0780 - 110ms/epoch - 9ms/step\n",
            "Epoch 24/50\n",
            "12/12 - 0s - loss: 0.0503 - val_loss: 0.0779 - 109ms/epoch - 9ms/step\n",
            "Epoch 25/50\n",
            "12/12 - 0s - loss: 0.0490 - val_loss: 0.0758 - 98ms/epoch - 8ms/step\n",
            "Epoch 26/50\n",
            "12/12 - 0s - loss: 0.0493 - val_loss: 0.0738 - 123ms/epoch - 10ms/step\n",
            "Epoch 27/50\n",
            "12/12 - 0s - loss: 0.0498 - val_loss: 0.0745 - 138ms/epoch - 12ms/step\n",
            "Epoch 28/50\n",
            "12/12 - 0s - loss: 0.0483 - val_loss: 0.0729 - 124ms/epoch - 10ms/step\n",
            "Epoch 29/50\n",
            "12/12 - 0s - loss: 0.0482 - val_loss: 0.0706 - 128ms/epoch - 11ms/step\n",
            "Epoch 30/50\n",
            "12/12 - 0s - loss: 0.0484 - val_loss: 0.0723 - 129ms/epoch - 11ms/step\n",
            "Epoch 31/50\n",
            "12/12 - 0s - loss: 0.0470 - val_loss: 0.0698 - 123ms/epoch - 10ms/step\n",
            "Epoch 32/50\n",
            "12/12 - 0s - loss: 0.0473 - val_loss: 0.0679 - 126ms/epoch - 11ms/step\n",
            "Epoch 33/50\n",
            "12/12 - 0s - loss: 0.0466 - val_loss: 0.0691 - 122ms/epoch - 10ms/step\n",
            "Epoch 34/50\n",
            "12/12 - 0s - loss: 0.0472 - val_loss: 0.0657 - 126ms/epoch - 10ms/step\n",
            "Epoch 35/50\n",
            "12/12 - 0s - loss: 0.0435 - val_loss: 0.0650 - 136ms/epoch - 11ms/step\n",
            "Epoch 36/50\n",
            "12/12 - 0s - loss: 0.0467 - val_loss: 0.0650 - 166ms/epoch - 14ms/step\n",
            "Epoch 37/50\n",
            "12/12 - 0s - loss: 0.0438 - val_loss: 0.0646 - 126ms/epoch - 11ms/step\n",
            "Epoch 38/50\n",
            "12/12 - 0s - loss: 0.0421 - val_loss: 0.0636 - 132ms/epoch - 11ms/step\n",
            "Epoch 39/50\n",
            "12/12 - 0s - loss: 0.0435 - val_loss: 0.0628 - 132ms/epoch - 11ms/step\n",
            "Epoch 40/50\n",
            "12/12 - 0s - loss: 0.0428 - val_loss: 0.0642 - 118ms/epoch - 10ms/step\n",
            "Epoch 41/50\n",
            "12/12 - 0s - loss: 0.0432 - val_loss: 0.0631 - 112ms/epoch - 9ms/step\n",
            "Epoch 42/50\n",
            "12/12 - 0s - loss: 0.0417 - val_loss: 0.0609 - 108ms/epoch - 9ms/step\n",
            "Epoch 43/50\n",
            "12/12 - 0s - loss: 0.0449 - val_loss: 0.0613 - 123ms/epoch - 10ms/step\n",
            "Epoch 44/50\n",
            "12/12 - 0s - loss: 0.0405 - val_loss: 0.0607 - 111ms/epoch - 9ms/step\n",
            "Epoch 45/50\n",
            "12/12 - 0s - loss: 0.0407 - val_loss: 0.0615 - 105ms/epoch - 9ms/step\n",
            "Epoch 46/50\n",
            "12/12 - 0s - loss: 0.0405 - val_loss: 0.0595 - 118ms/epoch - 10ms/step\n",
            "Epoch 47/50\n",
            "12/12 - 0s - loss: 0.0436 - val_loss: 0.0612 - 107ms/epoch - 9ms/step\n",
            "Epoch 48/50\n",
            "12/12 - 0s - loss: 0.0411 - val_loss: 0.0606 - 110ms/epoch - 9ms/step\n",
            "Epoch 49/50\n",
            "12/12 - 0s - loss: 0.0398 - val_loss: 0.0600 - 103ms/epoch - 9ms/step\n",
            "Epoch 50/50\n",
            "12/12 - 0s - loss: 0.0398 - val_loss: 0.0591 - 106ms/epoch - 9ms/step\n"
          ]
        },
        {
          "output_type": "display_data",
          "data": {
            "text/plain": [
              "<Figure size 432x288 with 1 Axes>"
            ],
            "image/png": "[encoded data removed]"
          },
          "metadata": {
            "needs_background": "light"
          }
        }
      ]
    },
    {
      "cell_type": "code",
      "source": [
        "from math import sqrt\n",
        "from sklearn.metrics import mean_squared_error\n",
        "# make a prediction\n",
        "yhat = model.predict(test_X)\n",
        "test_X = test_X.reshape((test_X.shape[0], test_X.shape[2]))\n",
        "# invert scaling for forecast\n",
        "inv_yhat = np.concatenate((yhat, test_X[:, 1:]), axis=1)\n",
        "inv_yhat = scaler.inverse_transform(inv_yhat)\n",
        "inv_yhat = inv_yhat[:,0]\n",
        "# invert scaling for actual\n",
        "test_y = test_y.reshape((len(test_y), 1))\n",
        "inv_y = np.concatenate((test_y, test_X[:, 1:]), axis=1)\n",
        "inv_y = scaler.inverse_transform(inv_y)\n",
        "inv_y = inv_y[:,0]\n",
        "# calculate RMSE\n",
        "rmse = sqrt(mean_squared_error(inv_y, inv_yhat))\n",
        "print('Test RMSE: %.3f' % rmse)"
      ],
      "metadata": {
        "colab": {
          "base_uri": "https://localhost:8080/"
        },
        "id": "iMnSDfoovKiS",
        "outputId": "9701609d-ac62-44ad-a994-cd52e5047a7c"
      },
      "execution_count": null,
      "outputs": [
        {
          "output_type": "stream",
          "name": "stdout",
          "text": [
            "Test RMSE: 1245.916\n"
          ]
        }
      ]
    },
    {
      "cell_type": "code",
      "source": [
        "inv_yhat"
      ],
      "metadata": {
        "colab": {
          "base_uri": "https://localhost:8080/"
        },
        "id": "QfSeBmbo0ZWa",
        "outputId": "84d763b1-8935-4b8f-c9e8-bb3f349424b1"
      },
      "execution_count": null,
      "outputs": [
        {
          "output_type": "execute_result",
          "data": {
            "text/plain": [
              "array([1637.49409302, 1781.82957426, 1928.34809105, 2077.05388093,\n",
              "       8571.94978368, 7989.48680055, 7694.22824049, 7303.33492559,\n",
              "       5663.63863009, 6776.27485639, 6901.11186099, 7310.14393425,\n",
              "       6819.8917796 , 6620.65923989, 5867.28350064, 5530.49747407,\n",
              "       6682.4128027 , 7258.38106084, 7092.9258936 , 6677.17662489,\n",
              "       6633.09216058, 6680.6980145 , 5242.39751911, 6064.98664421,\n",
              "       7079.79519254, 6844.54080057, 6698.30566877, 6265.51728141,\n",
              "       7495.24006516, 6381.48866153, 6651.75990427, 7979.33225989,\n",
              "       7355.3831262 , 6613.54371637, 6813.85965192, 6675.41593009,\n",
              "       5024.93899849, 5677.9406558 , 5844.51982856, 6292.46304506,\n",
              "       6504.13768679, 6848.04524004, 6037.01398516, 5044.38185751,\n",
              "       5530.39188889, 6777.75658029, 6407.30865401, 6599.02239835,\n",
              "       6917.4051739 , 5762.70119569, 4859.58729768, 5949.38957947,\n",
              "       7023.95228148, 6848.04524004, 6109.3281855 , 5651.03161743,\n",
              "       6260.12855244, 4912.11539885, 5513.21575668, 7152.10091782])"
            ]
          },
          "metadata": {},
          "execution_count": 19
        }
      ]
    },
    {
      "cell_type": "code",
      "source": [
        "inv_y"
      ],
      "metadata": {
        "colab": {
          "base_uri": "https://localhost:8080/"
        },
        "id": "OGXHYl853c1w",
        "outputId": "100c050e-86bf-4d5e-e521-d243d86a111e"
      },
      "execution_count": null,
      "outputs": [
        {
          "output_type": "execute_result",
          "data": {
            "text/plain": [
              "array([1550.43478261, 1588.2173913 , 1626.        , 9534.        ,\n",
              "       8848.        , 8502.        , 8048.        , 6092.        ,\n",
              "       5462.        , 5574.        , 5994.        , 7496.        ,\n",
              "       7270.        , 6432.        , 6058.        , 5412.        ,\n",
              "       5946.        , 7752.        , 7334.        , 7284.        ,\n",
              "       7338.        , 5738.        , 4856.        , 5780.        ,\n",
              "       7524.        , 7358.        , 6874.        , 8270.        ,\n",
              "       6980.        , 5384.        , 6560.        , 8108.        ,\n",
              "       7262.        , 7462.        , 7332.        , 5456.        ,\n",
              "       4516.        , 4668.        , 6904.        , 7140.        ,\n",
              "       7528.        , 6620.        , 5496.        , 4408.        ,\n",
              "       5500.        , 7032.        , 7108.        , 7578.        ,\n",
              "       6316.        , 5316.        , 4742.        , 5728.        ,\n",
              "       7528.        , 6700.        , 6192.        , 6868.        ,\n",
              "       5374.        , 4410.        , 5758.        , 3716.        ])"
            ]
          },
          "metadata": {},
          "execution_count": 20
        }
      ]
    },
    {
      "cell_type": "code",
      "source": [
        "date_vals = pd.date_range(start=\"2022-01-07\",end=\"2022-03-07\")"
      ],
      "metadata": {
        "id": "gbm-kNUT7OoE"
      },
      "execution_count": null,
      "outputs": []
    },
    {
      "cell_type": "code",
      "source": [
        "pyplot.plot(date_vals,inv_yhat, label='pred')\n",
        "pyplot.plot(date_vals,inv_y, label='true')\n",
        "pyplot.legend()\n",
        "pyplot.show()"
      ],
      "metadata": {
        "colab": {
          "base_uri": "https://localhost:8080/",
          "height": 265
        },
        "id": "RDhgZe2-5Ehv",
        "outputId": "565d63d5-0ff6-467b-850e-8788971442bc"
      },
      "execution_count": null,
      "outputs": [
        {
          "output_type": "display_data",
          "data": {
            "text/plain": [
              "<Figure size 432x288 with 1 Axes>"
            ],
            "image/png": "[encoded data removed]"
          },
          "metadata": {
            "needs_background": "light"
          }
        }
      ]
    },
    {
      "cell_type": "code",
      "source": [
        "print(\"pred\",inv_yhat)\n",
        "print(\"true\",inv_y)"
      ],
      "metadata": {
        "colab": {
          "base_uri": "https://localhost:8080/"
        },
        "id": "WZdsFUF2_UHO",
        "outputId": "c4cf91cd-70bc-4bd2-efe5-0206ce3b253d"
      },
      "execution_count": null,
      "outputs": [
        {
          "output_type": "stream",
          "name": "stdout",
          "text": [
            "pred [2072.22468282 2227.07383561 2384.16464315 2543.56066844 8759.80242956\n",
            " 8070.92793989 7735.18540573 7304.8879813  5567.06667429 7271.25609744\n",
            " 7416.3633393  7957.4016161  6785.60095942 6574.22435749 5808.48279181\n",
            " 5471.73419678 7257.84571922 7900.99299443 7034.9599787  6634.01029265\n",
            " 6587.29855812 6637.74920893 5188.7274029  6545.81311381 7705.03818619\n",
            " 6811.83834887 6656.44520283 6210.67937183 7514.9354105  6313.730515\n",
            " 7222.19959486 8610.70343196 7361.58899271 6566.75641251 6757.73211992\n",
            " 6632.14154077 4954.56770685 6056.15845126 6306.48574674 6238.07360768\n",
            " 6454.00131965 6815.58715272 5979.2295779  4979.8470608  5976.80500299\n",
            " 7367.03704715 6355.09307086 6523.37961614 6865.22984731 5703.36655775\n",
            " 4815.85666734 6344.68427825 7642.81143224 6815.58715272 6052.03321326\n",
            " 5591.20330694 6205.20094842 4867.77032629 5727.59606299 7489.70796633]\n",
            "true [1550.43478261 1588.2173913  1626.         9534.         8848.\n",
            " 8502.         8048.         6092.         5462.         5574.\n",
            " 5994.         7496.         7270.         6432.         6058.\n",
            " 5412.         5946.         7752.         7334.         7284.\n",
            " 7338.         5738.         4856.         5780.         7524.\n",
            " 7358.         6874.         8270.         6980.         5384.\n",
            " 6560.         8108.         7262.         7462.         7332.\n",
            " 5456.         4516.         4668.         6904.         7140.\n",
            " 7528.         6620.         5496.         4408.         5500.\n",
            " 7032.         7108.         7578.         6316.         5316.\n",
            " 4742.         5728.         7528.         6700.         6192.\n",
            " 6868.         5374.         4410.         5758.         3716.        ]\n"
          ]
        }
      ]
    },
    {
      "cell_type": "code",
      "source": [
        "diff_pr_tr = inv_yhat-inv_y\n",
        "diff_pr_tr"
      ],
      "metadata": {
        "colab": {
          "base_uri": "https://localhost:8080/"
        },
        "id": "iFZf5GzWbXcx",
        "outputId": "fa36d969-544d-498e-c7fb-6d8b566ea79d"
      },
      "execution_count": null,
      "outputs": [
        {
          "output_type": "execute_result",
          "data": {
            "text/plain": [
              "array([  521.78990021,   638.85644431,   758.16464315, -6990.43933156,\n",
              "         -88.19757044,  -431.07206011,  -312.81459427,  1212.8879813 ,\n",
              "         105.06667429,  1697.25609744,  1422.3633393 ,   461.4016161 ,\n",
              "        -484.39904058,   142.22435749,  -249.51720819,    59.73419678,\n",
              "        1311.84571922,   148.99299443,  -299.0400213 ,  -649.98970735,\n",
              "        -750.70144188,   899.74920893,   332.7274029 ,   765.81311381,\n",
              "         181.03818619,  -546.16165113,  -217.55479717, -2059.32062817,\n",
              "         534.9354105 ,   929.730515  ,   662.19959486,   502.70343196,\n",
              "          99.58899271,  -895.24358749,  -574.26788008,  1176.14154077,\n",
              "         438.56770685,  1388.15845126,  -597.51425326,  -901.92639232,\n",
              "       -1073.99868035,   195.58715272,   483.2295779 ,   571.8470608 ,\n",
              "         476.80500299,   335.03704715,  -752.90692914, -1054.62038386,\n",
              "         549.22984731,   387.36655775,    73.85666734,   616.68427825,\n",
              "         114.81143224,   115.58715272,  -139.96678674, -1276.79669306,\n",
              "         831.20094842,   457.77032629,   -30.40393701,  3773.70796633])"
            ]
          },
          "metadata": {},
          "execution_count": 22
        }
      ]
    },
    {
      "cell_type": "code",
      "source": [
        "# from keras.preprocessing.sequence import TimeseriesGenerator\n",
        "# from keras.models import Sequential\n",
        "# from keras.layers import Dense\n",
        "# from keras.layers import LSTM\n",
        "\n",
        "# # design network\n",
        "# model = Sequential()\n",
        "# model.add(LSTM(200, input_shape=(train_X.shape[1], train_X.shape[2])))\n",
        "# model.add(Dense(1))\n",
        "# model.compile(loss='mae', optimizer='adam')\n",
        "# # fit network\n",
        "# history = model.fit(train_X, train_y, epochs=50, batch_size=72, validation_data=(test_X, test_y), verbose=2, shuffle=False)\n",
        "# # plot history\n",
        "# pyplot.plot(history.history['loss'], label='train')\n",
        "# pyplot.plot(history.history['val_loss'], label='test')\n",
        "# pyplot.legend()\n",
        "# pyplot.show()"
      ],
      "metadata": {
        "id": "SvwmDuQCpbKM"
      },
      "execution_count": null,
      "outputs": []
    },
    {
      "cell_type": "code",
      "source": [
        "# from keras.preprocessing.sequence import TimeseriesGenerator\n",
        "\n",
        "# # n_input = 12\n",
        "# # n_features= 2 # 2 or more\n",
        "# n_input = 1\n",
        "# n_features= 2 # 2 or more\n",
        "# generator = TimeseriesGenerator(scaled_train_data, scaled_train_data, length=n_input, batch_size=1)\n",
        "# from keras.models import Sequential\n",
        "# from keras.layers import Dense\n",
        "# from keras.layers import LSTM\n",
        "\n",
        "# lstm_model = Sequential()\n",
        "# lstm_model.add(LSTM(200, activation='relu', input_shape=(1, 2)))\n",
        "# lstm_model.add(Dense(1))\n",
        "# lstm_model.compile(optimizer='adam', loss='mse')\n",
        "\n",
        "# lstm_model.summary()"
      ],
      "metadata": {
        "colab": {
          "base_uri": "https://localhost:8080/"
        },
        "id": "vNJ42YDVhTut",
        "outputId": "d732c4a0-1aef-4171-cbd6-22c9c2a9ba83"
      },
      "execution_count": null,
      "outputs": [
        {
          "output_type": "stream",
          "name": "stdout",
          "text": [
            "Model: \"sequential\"\n",
            "_________________________________________________________________\n",
            " Layer (type)                Output Shape              Param #   \n",
            "=================================================================\n",
            " lstm (LSTM)                 (None, 200)               162400    \n",
            "                                                                 \n",
            " dense (Dense)               (None, 1)                 201       \n",
            "                                                                 \n",
            "=================================================================\n",
            "Total params: 162,601\n",
            "Trainable params: 162,601\n",
            "Non-trainable params: 0\n",
            "_________________________________________________________________\n"
          ]
        }
      ]
    },
    {
      "cell_type": "code",
      "source": [
        "# lstm_model.fit_generator(generator,epochs=4)"
      ],
      "metadata": {
        "colab": {
          "base_uri": "https://localhost:8080/"
        },
        "id": "YE0iGxX8hZrK",
        "outputId": "04b7bc9d-0055-49bd-f4ca-d45d6b11a5ef"
      },
      "execution_count": null,
      "outputs": [
        {
          "output_type": "stream",
          "name": "stdout",
          "text": [
            "Epoch 1/4\n",
            "  1/594 [..............................] - ETA: 26s - loss: 0.0580"
          ]
        },
        {
          "output_type": "stream",
          "name": "stderr",
          "text": [
            "/usr/local/lib/python3.7/dist-packages/ipykernel_launcher.py:1: UserWarning: `Model.fit_generator` is deprecated and will be removed in a future version. Please use `Model.fit`, which supports generators.\n",
            "  \"\"\"Entry point for launching an IPython kernel.\n"
          ]
        },
        {
          "output_type": "stream",
          "name": "stdout",
          "text": [
            "594/594 [==============================] - 5s 8ms/step - loss: 0.0511\n",
            "Epoch 2/4\n",
            "594/594 [==============================] - 3s 6ms/step - loss: 0.0507\n",
            "Epoch 3/4\n",
            "594/594 [==============================] - 3s 4ms/step - loss: 0.0505\n",
            "Epoch 4/4\n",
            "594/594 [==============================] - 3s 4ms/step - loss: 0.0503\n"
          ]
        },
        {
          "output_type": "execute_result",
          "data": {
            "text/plain": [
              "<keras.callbacks.History at 0x7fb8fae71a10>"
            ]
          },
          "metadata": {},
          "execution_count": 27
        }
      ]
    },
    {
      "cell_type": "code",
      "source": [
        "# losses_lstm = lstm_model.history.history['loss']\n",
        "# plt.figure(figsize=(12,4))\n",
        "# plt.xlabel(\"Epochs\")\n",
        "# plt.ylabel(\"Loss\")\n",
        "# plt.xticks(np.arange(0,21,1))\n",
        "# plt.plot(range(len(losses_lstm)),losses_lstm);"
      ],
      "metadata": {
        "colab": {
          "base_uri": "https://localhost:8080/",
          "height": 279
        },
        "id": "rjS77KEzhd5l",
        "outputId": "01b13a9a-99f8-4aaa-ee05-aab83402e1a4"
      },
      "execution_count": null,
      "outputs": [
        {
          "output_type": "display_data",
          "data": {
            "text/plain": [
              "<Figure size 864x288 with 1 Axes>"
            ],
            "image/png": "[encoded data removed]"
          },
          "metadata": {
            "needs_background": "light"
          }
        }
      ]
    },
    {
      "cell_type": "code",
      "source": [
        "# scaled_train_data"
      ],
      "metadata": {
        "colab": {
          "base_uri": "https://localhost:8080/"
        },
        "id": "7M3d9LJ4qakb",
        "outputId": "30e8a9b5-4aeb-4d76-fcf5-0fea7f9e5faa"
      },
      "execution_count": null,
      "outputs": [
        {
          "output_type": "execute_result",
          "data": {
            "text/plain": [
              "array([[3.00000000e-01, 1.43472023e-03],\n",
              "       [1.00000000e-01, 1.60351084e-03],\n",
              "       [2.00000000e-01, 2.53185923e-04],\n",
              "       ...,\n",
              "       [0.00000000e+00, 3.92522576e-01],\n",
              "       [0.00000000e+00, 5.81230484e-01],\n",
              "       [0.00000000e+00, 6.01147776e-01]])"
            ]
          },
          "metadata": {},
          "execution_count": 30
        }
      ]
    },
    {
      "cell_type": "code",
      "source": [
        "# lstm_predictions_scaled = list()\n",
        "# batch = scaled_train_data[-n_input:]\n",
        "# #current_batch = batch.reshape((1, n_input, n_features))\n",
        "# print(batch)"
      ],
      "metadata": {
        "colab": {
          "base_uri": "https://localhost:8080/"
        },
        "id": "crP9eD57k0dS",
        "outputId": "7a669ae6-5bcb-4982-bce3-2282c49613e8"
      },
      "execution_count": null,
      "outputs": [
        {
          "output_type": "stream",
          "name": "stdout",
          "text": [
            "[[0.         0.60114778]]\n"
          ]
        }
      ]
    },
    {
      "cell_type": "code",
      "source": [
        "\n",
        "# for i in range(len(testindexedDataset)):   \n",
        "#     lstm_pred = lstm_model.predict(current_batch)[0]\n",
        "#     lstm_predictions_scaled.append(lstm_pred) \n",
        "#     current_batch[:,1:,:]\n",
        "#     #current_batch = np.append(current_batch[:,1:,:],[[lstm_pred]],axis=1)"
      ],
      "metadata": {
        "colab": {
          "base_uri": "https://localhost:8080/"
        },
        "id": "ZaVcAyC0i1Tk",
        "outputId": "52736bea-697c-450d-8bfc-ec57d851c3b2"
      },
      "execution_count": null,
      "outputs": [
        {
          "output_type": "stream",
          "name": "stdout",
          "text": [
            "[array([0.29948863], dtype=float32)]\n",
            "[array([0.29948863], dtype=float32), array([0.29948863], dtype=float32)]\n",
            "[array([0.29948863], dtype=float32), array([0.29948863], dtype=float32), array([0.29948863], dtype=float32)]\n",
            "[array([0.29948863], dtype=float32), array([0.29948863], dtype=float32), array([0.29948863], dtype=float32), array([0.29948863], dtype=float32)]\n",
            "[array([0.29948863], dtype=float32), array([0.29948863], dtype=float32), array([0.29948863], dtype=float32), array([0.29948863], dtype=float32), array([0.29948863], dtype=float32)]\n",
            "[array([0.29948863], dtype=float32), array([0.29948863], dtype=float32), array([0.29948863], dtype=float32), array([0.29948863], dtype=float32), array([0.29948863], dtype=float32), array([0.29948863], dtype=float32)]\n",
            "[array([0.29948863], dtype=float32), array([0.29948863], dtype=float32), array([0.29948863], dtype=float32), array([0.29948863], dtype=float32), array([0.29948863], dtype=float32), array([0.29948863], dtype=float32), array([0.29948863], dtype=float32)]\n",
            "[array([0.29948863], dtype=float32), array([0.29948863], dtype=float32), array([0.29948863], dtype=float32), array([0.29948863], dtype=float32), array([0.29948863], dtype=float32), array([0.29948863], dtype=float32), array([0.29948863], dtype=float32), array([0.29948863], dtype=float32)]\n",
            "[array([0.29948863], dtype=float32), array([0.29948863], dtype=float32), array([0.29948863], dtype=float32), array([0.29948863], dtype=float32), array([0.29948863], dtype=float32), array([0.29948863], dtype=float32), array([0.29948863], dtype=float32), array([0.29948863], dtype=float32), array([0.29948863], dtype=float32)]\n",
            "[array([0.29948863], dtype=float32), array([0.29948863], dtype=float32), array([0.29948863], dtype=float32), array([0.29948863], dtype=float32), array([0.29948863], dtype=float32), array([0.29948863], dtype=float32), array([0.29948863], dtype=float32), array([0.29948863], dtype=float32), array([0.29948863], dtype=float32), array([0.29948863], dtype=float32)]\n",
            "[array([0.29948863], dtype=float32), array([0.29948863], dtype=float32), array([0.29948863], dtype=float32), array([0.29948863], dtype=float32), array([0.29948863], dtype=float32), array([0.29948863], dtype=float32), array([0.29948863], dtype=float32), array([0.29948863], dtype=float32), array([0.29948863], dtype=float32), array([0.29948863], dtype=float32), array([0.29948863], dtype=float32)]\n",
            "[array([0.29948863], dtype=float32), array([0.29948863], dtype=float32), array([0.29948863], dtype=float32), array([0.29948863], dtype=float32), array([0.29948863], dtype=float32), array([0.29948863], dtype=float32), array([0.29948863], dtype=float32), array([0.29948863], dtype=float32), array([0.29948863], dtype=float32), array([0.29948863], dtype=float32), array([0.29948863], dtype=float32), array([0.29948863], dtype=float32)]\n",
            "[array([0.29948863], dtype=float32), array([0.29948863], dtype=float32), array([0.29948863], dtype=float32), array([0.29948863], dtype=float32), array([0.29948863], dtype=float32), array([0.29948863], dtype=float32), array([0.29948863], dtype=float32), array([0.29948863], dtype=float32), array([0.29948863], dtype=float32), array([0.29948863], dtype=float32), array([0.29948863], dtype=float32), array([0.29948863], dtype=float32), array([0.29948863], dtype=float32)]\n",
            "[array([0.29948863], dtype=float32), array([0.29948863], dtype=float32), array([0.29948863], dtype=float32), array([0.29948863], dtype=float32), array([0.29948863], dtype=float32), array([0.29948863], dtype=float32), array([0.29948863], dtype=float32), array([0.29948863], dtype=float32), array([0.29948863], dtype=float32), array([0.29948863], dtype=float32), array([0.29948863], dtype=float32), array([0.29948863], dtype=float32), array([0.29948863], dtype=float32), array([0.29948863], dtype=float32)]\n",
            "[array([0.29948863], dtype=float32), array([0.29948863], dtype=float32), array([0.29948863], dtype=float32), array([0.29948863], dtype=float32), array([0.29948863], dtype=float32), array([0.29948863], dtype=float32), array([0.29948863], dtype=float32), array([0.29948863], dtype=float32), array([0.29948863], dtype=float32), array([0.29948863], dtype=float32), array([0.29948863], dtype=float32), array([0.29948863], dtype=float32), array([0.29948863], dtype=float32), array([0.29948863], dtype=float32), array([0.29948863], dtype=float32)]\n",
            "[array([0.29948863], dtype=float32), array([0.29948863], dtype=float32), array([0.29948863], dtype=float32), array([0.29948863], dtype=float32), array([0.29948863], dtype=float32), array([0.29948863], dtype=float32), array([0.29948863], dtype=float32), array([0.29948863], dtype=float32), array([0.29948863], dtype=float32), array([0.29948863], dtype=float32), array([0.29948863], dtype=float32), array([0.29948863], dtype=float32), array([0.29948863], dtype=float32), array([0.29948863], dtype=float32), array([0.29948863], dtype=float32), array([0.29948863], dtype=float32)]\n",
            "[array([0.29948863], dtype=float32), array([0.29948863], dtype=float32), array([0.29948863], dtype=float32), array([0.29948863], dtype=float32), array([0.29948863], dtype=float32), array([0.29948863], dtype=float32), array([0.29948863], dtype=float32), array([0.29948863], dtype=float32), array([0.29948863], dtype=float32), array([0.29948863], dtype=float32), array([0.29948863], dtype=float32), array([0.29948863], dtype=float32), array([0.29948863], dtype=float32), array([0.29948863], dtype=float32), array([0.29948863], dtype=float32), array([0.29948863], dtype=float32), array([0.29948863], dtype=float32)]\n",
            "[array([0.29948863], dtype=float32), array([0.29948863], dtype=float32), array([0.29948863], dtype=float32), array([0.29948863], dtype=float32), array([0.29948863], dtype=float32), array([0.29948863], dtype=float32), array([0.29948863], dtype=float32), array([0.29948863], dtype=float32), array([0.29948863], dtype=float32), array([0.29948863], dtype=float32), array([0.29948863], dtype=float32), array([0.29948863], dtype=float32), array([0.29948863], dtype=float32), array([0.29948863], dtype=float32), array([0.29948863], dtype=float32), array([0.29948863], dtype=float32), array([0.29948863], dtype=float32), array([0.29948863], dtype=float32)]\n",
            "[array([0.29948863], dtype=float32), array([0.29948863], dtype=float32), array([0.29948863], dtype=float32), array([0.29948863], dtype=float32), array([0.29948863], dtype=float32), array([0.29948863], dtype=float32), array([0.29948863], dtype=float32), array([0.29948863], dtype=float32), array([0.29948863], dtype=float32), array([0.29948863], dtype=float32), array([0.29948863], dtype=float32), array([0.29948863], dtype=float32), array([0.29948863], dtype=float32), array([0.29948863], dtype=float32), array([0.29948863], dtype=float32), array([0.29948863], dtype=float32), array([0.29948863], dtype=float32), array([0.29948863], dtype=float32), array([0.29948863], dtype=float32)]\n",
            "[array([0.29948863], dtype=float32), array([0.29948863], dtype=float32), array([0.29948863], dtype=float32), array([0.29948863], dtype=float32), array([0.29948863], dtype=float32), array([0.29948863], dtype=float32), array([0.29948863], dtype=float32), array([0.29948863], dtype=float32), array([0.29948863], dtype=float32), array([0.29948863], dtype=float32), array([0.29948863], dtype=float32), array([0.29948863], dtype=float32), array([0.29948863], dtype=float32), array([0.29948863], dtype=float32), array([0.29948863], dtype=float32), array([0.29948863], dtype=float32), array([0.29948863], dtype=float32), array([0.29948863], dtype=float32), array([0.29948863], dtype=float32), array([0.29948863], dtype=float32)]\n"
          ]
        }
      ]
    },
    {
      "cell_type": "code",
      "source": [
        "# lstm_predictions_scaled = list()\n",
        "\n",
        "# batch = scaled_train_data[-n_input:]\n",
        "# current_batch = batch.reshape((1, n_input, n_features))\n",
        "\n",
        "# for i in range(len(testindexedDataset)):   \n",
        "#     lstm_pred = lstm_model.predict(current_batch)[0]\n",
        "#     lstm_predictions_scaled.append(lstm_pred) \n",
        "#     current_batch = np.append(current_batch[:,1:,:],[[lstm_pred]],axis=1)"
      ],
      "metadata": {
        "colab": {
          "base_uri": "https://localhost:8080/",
          "height": 419
        },
        "id": "GZ1i_z9Fij6j",
        "outputId": "d593b045-2b22-446b-e4a1-eca5f6549f08"
      },
      "execution_count": null,
      "outputs": [
        {
          "output_type": "error",
          "ename": "ValueError",
          "evalue": "ignored",
          "traceback": [
            "\u001b[0;31m---------------------------------------------------------------------------\u001b[0m",
            "\u001b[0;31mValueError\u001b[0m                                Traceback (most recent call last)",
            "\u001b[0;32m<ipython-input-12-d1c1818ec9f6>\u001b[0m in \u001b[0;36m<module>\u001b[0;34m()\u001b[0m\n\u001b[1;32m      7\u001b[0m     \u001b[0mlstm_pred\u001b[0m \u001b[0;34m=\u001b[0m \u001b[0mlstm_model\u001b[0m\u001b[0;34m.\u001b[0m\u001b[0mpredict\u001b[0m\u001b[0;34m(\u001b[0m\u001b[0mcurrent_batch\u001b[0m\u001b[0;34m)\u001b[0m\u001b[0;34m[\u001b[0m\u001b[0;36m0\u001b[0m\u001b[0;34m]\u001b[0m\u001b[0;34m\u001b[0m\u001b[0;34m\u001b[0m\u001b[0m\n\u001b[1;32m      8\u001b[0m     \u001b[0mlstm_predictions_scaled\u001b[0m\u001b[0;34m.\u001b[0m\u001b[0mappend\u001b[0m\u001b[0;34m(\u001b[0m\u001b[0mlstm_pred\u001b[0m\u001b[0;34m)\u001b[0m\u001b[0;34m\u001b[0m\u001b[0;34m\u001b[0m\u001b[0m\n\u001b[0;32m----> 9\u001b[0;31m     \u001b[0mcurrent_batch\u001b[0m \u001b[0;34m=\u001b[0m \u001b[0mnp\u001b[0m\u001b[0;34m.\u001b[0m\u001b[0mappend\u001b[0m\u001b[0;34m(\u001b[0m\u001b[0mcurrent_batch\u001b[0m\u001b[0;34m[\u001b[0m\u001b[0;34m:\u001b[0m\u001b[0;34m,\u001b[0m\u001b[0;36m1\u001b[0m\u001b[0;34m:\u001b[0m\u001b[0;34m,\u001b[0m\u001b[0;34m:\u001b[0m\u001b[0;34m]\u001b[0m\u001b[0;34m,\u001b[0m\u001b[0;34m[\u001b[0m\u001b[0;34m[\u001b[0m\u001b[0mlstm_pred\u001b[0m\u001b[0;34m]\u001b[0m\u001b[0;34m]\u001b[0m\u001b[0;34m,\u001b[0m\u001b[0maxis\u001b[0m\u001b[0;34m=\u001b[0m\u001b[0;36m1\u001b[0m\u001b[0;34m)\u001b[0m\u001b[0;34m\u001b[0m\u001b[0;34m\u001b[0m\u001b[0m\n\u001b[0m",
            "\u001b[0;32m<__array_function__ internals>\u001b[0m in \u001b[0;36mappend\u001b[0;34m(*args, **kwargs)\u001b[0m\n",
            "\u001b[0;32m/usr/local/lib/python3.7/dist-packages/numpy/lib/function_base.py\u001b[0m in \u001b[0;36mappend\u001b[0;34m(arr, values, axis)\u001b[0m\n\u001b[1;32m   4815\u001b[0m         \u001b[0mvalues\u001b[0m \u001b[0;34m=\u001b[0m \u001b[0mravel\u001b[0m\u001b[0;34m(\u001b[0m\u001b[0mvalues\u001b[0m\u001b[0;34m)\u001b[0m\u001b[0;34m\u001b[0m\u001b[0;34m\u001b[0m\u001b[0m\n\u001b[1;32m   4816\u001b[0m         \u001b[0maxis\u001b[0m \u001b[0;34m=\u001b[0m \u001b[0marr\u001b[0m\u001b[0;34m.\u001b[0m\u001b[0mndim\u001b[0m\u001b[0;34m-\u001b[0m\u001b[0;36m1\u001b[0m\u001b[0;34m\u001b[0m\u001b[0;34m\u001b[0m\u001b[0m\n\u001b[0;32m-> 4817\u001b[0;31m     \u001b[0;32mreturn\u001b[0m \u001b[0mconcatenate\u001b[0m\u001b[0;34m(\u001b[0m\u001b[0;34m(\u001b[0m\u001b[0marr\u001b[0m\u001b[0;34m,\u001b[0m \u001b[0mvalues\u001b[0m\u001b[0;34m)\u001b[0m\u001b[0;34m,\u001b[0m \u001b[0maxis\u001b[0m\u001b[0;34m=\u001b[0m\u001b[0maxis\u001b[0m\u001b[0;34m)\u001b[0m\u001b[0;34m\u001b[0m\u001b[0;34m\u001b[0m\u001b[0m\n\u001b[0m\u001b[1;32m   4818\u001b[0m \u001b[0;34m\u001b[0m\u001b[0m\n\u001b[1;32m   4819\u001b[0m \u001b[0;34m\u001b[0m\u001b[0m\n",
            "\u001b[0;32m<__array_function__ internals>\u001b[0m in \u001b[0;36mconcatenate\u001b[0;34m(*args, **kwargs)\u001b[0m\n",
            "\u001b[0;31mValueError\u001b[0m: all the input array dimensions for the concatenation axis must match exactly, but along dimension 2, the array at index 0 has size 2 and the array at index 1 has size 1"
          ]
        }
      ]
    },
    {
      "cell_type": "code",
      "source": [
        "# lstm_predictions_scaled"
      ],
      "metadata": {
        "id": "KM6Tk0j6itsq"
      },
      "execution_count": null,
      "outputs": []
    }
  ]
}